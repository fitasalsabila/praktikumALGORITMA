{
  "nbformat": 4,
  "nbformat_minor": 0,
  "metadata": {
    "colab": {
      "provenance": [],
      "toc_visible": true,
      "authorship_tag": "ABX9TyNqfgEjQZ7XIxGo29DQJiuK",
      "include_colab_link": true
    },
    "kernelspec": {
      "name": "python3",
      "display_name": "Python 3"
    },
    "language_info": {
      "name": "python"
    }
  },
  "cells": [
    {
      "cell_type": "markdown",
      "metadata": {
        "id": "view-in-github",
        "colab_type": "text"
      },
      "source": [
        "<a href=\"https://colab.research.google.com/github/fitasalsabila/praktikumALGORITMA/blob/main/FITA%20SALSABILA_233210043_3D_LATIHAN_4_PRAK_ALGORITMA.ipynb\" target=\"_parent\"><img src=\"https://colab.research.google.com/assets/colab-badge.svg\" alt=\"Open In Colab\"/></a>"
      ]
    },
    {
      "cell_type": "code",
      "execution_count": null,
      "metadata": {
        "colab": {
          "base_uri": "https://localhost:8080/"
        },
        "id": "ZxgcMl1vil57",
        "outputId": "ade62a30-3bbb-4743-afd8-20363be4ecf3"
      },
      "outputs": [
        {
          "output_type": "stream",
          "name": "stdout",
          "text": [
            "Masukkan Angka yang akan dicari? 3\n",
            "List sebelum disort = [2, 3, 3, 2, 1, 0, 0, 4, 3]\n",
            "List setelah di sort =  [0, 0, 1, 2, 2, 3, 3, 3, 4]\n",
            "Angka 3 ditemukan pada list pada indeks-6\n"
          ]
        }
      ],
      "source": [
        "# Binary search menggunakan fungsi\n",
        "def searchNumber(angkaCari, list):\n",
        "  ketemu = False  # Untuk memberikan kondisi adanya angka\n",
        "  list.sort()      # Binary search harus diurutkan\n",
        "  print('List setelah di sort = ', list)\n",
        "  indexAwal = 0    # index pertama\n",
        "  indexAkhir = len(list)-1 # index terakhir\n",
        "  indexTengah = 0\n",
        "\n",
        "\n",
        "  while indexAwal <= indexAkhir and not ketemu:\n",
        "    indexTengah = (indexAwal + indexAkhir) // 2 # mencari index tengah\n",
        "    if list[indexTengah] == angkaCari:\n",
        "      ketemu = True\n",
        "    else:\n",
        "      if angkaCari < list[indexTengah]:\n",
        "        indexAkhir = indexTengah - 1\n",
        "      else:\n",
        "        indexAwal = indexTengah + 1\n",
        "\n",
        "\n",
        "  if ketemu:\n",
        "    print('Angka %s ditemukan pada list pada indeks-%s' % (angkaCari, indexTengah))\n",
        "  return print\n",
        "\n",
        "\n",
        "listAngka = [2,3,3,2,1,0,0,4,3] # Example list\n",
        "angkaCari = int(input('Masukkan Angka yang akan dicari? ')) #angka yang dicari\n",
        "print('List sebelum disort =', listAngka)\n",
        "\n",
        "\n",
        "# Pemanggilan Fungsi ditandai dengan pemanggilan nama fungsi\n",
        "hasil = searchNumber(angkaCari, listAngka)"
      ]
    }
  ]
}